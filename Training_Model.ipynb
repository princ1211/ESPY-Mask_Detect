{
  "nbformat": 4,
  "nbformat_minor": 0,
  "metadata": {
    "colab": {
      "name": "Untitled1.ipynb",
      "provenance": [],
      "collapsed_sections": [],
      "toc_visible": true,
      "authorship_tag": "ABX9TyPVseLfkfnVCS7MG3RnPNCe",
      "include_colab_link": true
    },
    "kernelspec": {
      "name": "python3",
      "display_name": "Python 3"
    }
  },
  "cells": [
    {
      "cell_type": "markdown",
      "metadata": {
        "id": "view-in-github",
        "colab_type": "text"
      },
      "source": [
        "<a href=\"https://colab.research.google.com/github/princ1211/MaskDetect/blob/main/Training_Model.ipynb\" target=\"_parent\"><img src=\"https://colab.research.google.com/assets/colab-badge.svg\" alt=\"Open In Colab\"/></a>"
      ]
    },
    {
      "cell_type": "code",
      "metadata": {
        "id": "Sf41sMNP9RC_"
      },
      "source": [
        "import tensorflow as tf \n",
        "import cv2 \n",
        "import os\n",
        "import matplotlib.pyplot as plt\n",
        "import numpy as np"
      ],
      "execution_count": null,
      "outputs": []
    },
    {
      "cell_type": "code",
      "metadata": {
        "id": "bMivsjKU0LGM"
      },
      "source": [
        "img_arr.shape"
      ],
      "execution_count": null,
      "outputs": []
    },
    {
      "cell_type": "code",
      "metadata": {
        "id": "w4iIDV6E-Lcc"
      },
      "source": [
        "DataDir= \"DAtaset/\"\n",
        "classes=[\"FAceMask\", \"NoMask\"]\n",
        "for cat in classes:\n",
        "  path= os.path.join(Datadir, cat)\n",
        "  for img in os.listdir(path):\n",
        "    img_arr= cv2.imread(os.path.join(path,img))\n",
        "    plt.imshow(cv2.cvtColor(img_arr, cv2.COLOR_BGR2RGB))\n",
        "    plt.show()\n",
        "    break\n",
        "  break"
      ],
      "execution_count": null,
      "outputs": []
    },
    {
      "cell_type": "code",
      "metadata": {
        "id": "j_mkUSVS0IyA"
      },
      "source": [
        "img_size=224\n",
        "new_arr= cv2.resize(img_arr, (img_size,img_size))\n",
        "plt.imshow(cv2.cvtColor(new-arr,  cv2.COLOR_BGR2RGB))"
      ],
      "execution_count": null,
      "outputs": []
    },
    {
      "cell_type": "code",
      "metadata": {
        "id": "PcH-Igm21FMg"
      },
      "source": [
        "training_data=[]\n",
        "def create_training_data():\n",
        "  for category in classes:\n",
        "    path=os.path.join(Datadirectory, category)\n",
        "    class_num= Classes.index(Category)\n",
        "    for img in os.listdir(path):\n",
        "      try:\n",
        "        img_array= cv2.imread(os.path.join(path,img))\n",
        "        new_array= cv2.resize(img_array,(img_size, img_size))\n",
        "        training_Data.append([new_array, class_num])\n",
        "      except:\n",
        "        Exception as e:\n",
        "        pass\n"
      ],
      "execution_count": null,
      "outputs": []
    },
    {
      "cell_type": "code",
      "metadata": {
        "id": "Hpx2onq0zyEe"
      },
      "source": [
        ""
      ],
      "execution_count": null,
      "outputs": []
    },
    {
      "cell_type": "code",
      "metadata": {
        "id": "COGpelliuWLY"
      },
      "source": [
        "create_training_Data()"
      ],
      "execution_count": null,
      "outputs": []
    },
    {
      "cell_type": "code",
      "metadata": {
        "id": "dKzobvEBuZ2K"
      },
      "source": [
        "print(len(training_Data))"
      ],
      "execution_count": null,
      "outputs": []
    },
    {
      "cell_type": "code",
      "metadata": {
        "id": "I-NJDur3ueAG"
      },
      "source": [
        "import random\n",
        "\n",
        "random.shuffle(training_Data)"
      ],
      "execution_count": null,
      "outputs": []
    },
    {
      "cell_type": "code",
      "metadata": {
        "id": "58sWvVXturrX"
      },
      "source": [
        "X = []  ##data\n",
        "y = [] ##label\n",
        "\n",
        "for features, label un training_Data:\n",
        "  X.append(features)\n",
        "  y.append(label)\n",
        "\n",
        "\n",
        "X = np.array(X).reshape(-1, img_size, img_size, 3)"
      ],
      "execution_count": null,
      "outputs": []
    },
    {
      "cell_type": "code",
      "metadata": {
        "id": "YO0FOYatuskB"
      },
      "source": [
        "X.shape\n",
        "X = X/225.0;"
      ],
      "execution_count": null,
      "outputs": []
    },
    {
      "cell_type": "code",
      "metadata": {
        "id": "3BqwTIXzvrlI"
      },
      "source": [
        "y[1000]"
      ],
      "execution_count": null,
      "outputs": []
    },
    {
      "cell_type": "code",
      "metadata": {
        "id": "keCs2ZzSvuZm"
      },
      "source": [
        "Y = np.array(y)"
      ],
      "execution_count": null,
      "outputs": []
    },
    {
      "cell_type": "code",
      "metadata": {
        "id": "vc8QS_x3vzCv"
      },
      "source": [
        "import pickle\n",
        "\n",
        "pickle_out = open(\"X.pickle\",\"wb\")\n",
        "pickle.dump(X, pickle_out)\n",
        "pickle_out.close()\n",
        "\n",
        "\n",
        "pickle_out = open(\"y.pickle\", \"wb\")\n",
        "pickle.dump(y, pickle_out)\n",
        "pickle_out.close()"
      ],
      "execution_count": null,
      "outputs": []
    },
    {
      "cell_type": "code",
      "metadata": {
        "id": "vp4fmHBxv1iF"
      },
      "source": [
        "pickle_in = open(\"X.pickle\", \"rb\")\n",
        "X = pickle.load(pickle_in)\n",
        "\n",
        "pickle_in = open(\"y.pickle\",\"rb\")\n",
        "y = pickle.load(pickle_in)"
      ],
      "execution_count": null,
      "outputs": []
    },
    {
      "cell_type": "code",
      "metadata": {
        "id": "weVLhPoPwsmf"
      },
      "source": [
        ""
      ],
      "execution_count": null,
      "outputs": []
    },
    {
      "cell_type": "markdown",
      "metadata": {
        "id": "cMcBlIipxEpG"
      },
      "source": [
        "Model"
      ]
    },
    {
      "cell_type": "code",
      "metadata": {
        "id": "E_-Yttg9bFuR"
      },
      "source": [
        "import tensorflow as tf\n",
        "from tensorflow import keras\n",
        "from tensorflow.keras import layers"
      ],
      "execution_count": null,
      "outputs": []
    },
    {
      "cell_type": "code",
      "metadata": {
        "id": "poAuFykPyHf6"
      },
      "source": [
        "model = tf.keras.applications.mobilenet.MobileNet()"
      ],
      "execution_count": null,
      "outputs": []
    },
    {
      "cell_type": "code",
      "metadata": {
        "id": "3T0PGkSGyZuY"
      },
      "source": [
        "model.summary()"
      ],
      "execution_count": null,
      "outputs": []
    },
    {
      "cell_type": "code",
      "metadata": {
        "id": "J8sOOB3eydG4"
      },
      "source": [
        "base_input = model.layers[0].input"
      ],
      "execution_count": null,
      "outputs": []
    },
    {
      "cell_type": "code",
      "metadata": {
        "id": "CQg41456yqop"
      },
      "source": [
        "base_output=model.laters[-4].output"
      ],
      "execution_count": null,
      "outputs": []
    },
    {
      "cell_type": "code",
      "metadata": {
        "id": "CXgDK3QXyvzh"
      },
      "source": [
        "Flat_layer=layers.Flatten()(base_output)\n",
        "final_output=layers.Dense(1)(Flat_layer)\n",
        "final_output=layers.Activation('sigmoid')(final_output)"
      ],
      "execution_count": null,
      "outputs": []
    },
    {
      "cell_type": "code",
      "metadata": {
        "id": "dnT8lAPIzd-w"
      },
      "source": [
        "new_model=keras.Model(inputs=base_input,outputs=final_output)"
      ],
      "execution_count": null,
      "outputs": []
    },
    {
      "cell_type": "code",
      "metadata": {
        "id": "op-IVZ1ZzolQ"
      },
      "source": [
        "new_model.summary()"
      ],
      "execution_count": null,
      "outputs": []
    },
    {
      "cell_type": "code",
      "metadata": {
        "id": "eXp8tJzEzxfw"
      },
      "source": [
        "new_model.compile(loss=\"binary_crossentropy\",optimizer=\"adam\",metric=[\"accuracy\"])"
      ],
      "execution_count": null,
      "outputs": []
    },
    {
      "cell_type": "code",
      "metadata": {
        "id": "H7Zkxlo30CFp"
      },
      "source": [
        "new_model.fit(X,Y,epochs=1,validation_split=0.1)"
      ],
      "execution_count": null,
      "outputs": []
    },
    {
      "cell_type": "code",
      "metadata": {
        "id": "woxWXV4M0LHp"
      },
      "source": [
        "new_model.save('my_model3.h5')"
      ],
      "execution_count": null,
      "outputs": []
    },
    {
      "cell_type": "code",
      "metadata": {
        "id": "6vhilST00gno"
      },
      "source": [
        "new_model=tf.keras.models.load_model('my_model.h5')"
      ],
      "execution_count": null,
      "outputs": []
    },
    {
      "cell_type": "code",
      "metadata": {
        "id": "pclhZjx30oOY"
      },
      "source": [
        "frame=cv2.imread('00002_Mask.jpg')"
      ],
      "execution_count": null,
      "outputs": []
    },
    {
      "cell_type": "code",
      "metadata": {
        "id": "3fhyuDLv00Rh"
      },
      "source": [
        "plt.imshow(cv2.cvtColor(frame,cv2.COLOR_BGR2RGB))"
      ],
      "execution_count": null,
      "outputs": []
    },
    {
      "cell_type": "code",
      "metadata": {
        "id": "lMO2HLGa1CRg"
      },
      "source": [
        "final_image=cv2.resize(frame,(224,224))\n",
        "final_image=np.expand_dims(final_image,axis=0)\n",
        "final_image=final_image/255.0"
      ],
      "execution_count": null,
      "outputs": []
    },
    {
      "cell_type": "code",
      "metadata": {
        "id": "s4jH6uUQ1XBA"
      },
      "source": [
        "Predicitions=new_model.predict(final_image)"
      ],
      "execution_count": null,
      "outputs": []
    },
    {
      "cell_type": "code",
      "metadata": {
        "id": "uDzsVyIf1dVR"
      },
      "source": [
        "Predictions"
      ],
      "execution_count": null,
      "outputs": []
    },
    {
      "cell_type": "code",
      "metadata": {
        "id": "e_wTgalg1fD5"
      },
      "source": [
        "frame=cv2.imread('sad_women.jpg')"
      ],
      "execution_count": null,
      "outputs": []
    },
    {
      "cell_type": "markdown",
      "metadata": {
        "id": "EOhuuE2y9Vzs"
      },
      "source": [
        "# New Section"
      ]
    }
  ]
}