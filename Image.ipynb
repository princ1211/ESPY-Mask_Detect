{
  "nbformat": 4,
  "nbformat_minor": 0,
  "metadata": {
    "colab": {
      "name": "Untitled1.ipynb",
      "provenance": [],
      "collapsed_sections": [],
      "authorship_tag": "ABX9TyP/379emeK3Q1xQQDLgknrp",
      "include_colab_link": true
    },
    "kernelspec": {
      "name": "python3",
      "display_name": "Python 3"
    }
  },
  "cells": [
    {
      "cell_type": "markdown",
      "metadata": {
        "id": "view-in-github",
        "colab_type": "text"
      },
      "source": [
        "<a href=\"https://colab.research.google.com/github/princ1211/MaskDetect/blob/main/Image.ipynb\" target=\"_parent\"><img src=\"https://colab.research.google.com/assets/colab-badge.svg\" alt=\"Open In Colab\"/></a>"
      ]
    },
    {
      "cell_type": "code",
      "metadata": {
        "id": "Sf41sMNP9RC_"
      },
      "source": [
        "import tensorflow as tf \n",
        "import cv2 \n",
        "import os\n",
        "import matplotlib.pyplot as plt\n",
        "import numpy as np"
      ],
      "execution_count": null,
      "outputs": []
    },
    {
      "cell_type": "code",
      "metadata": {
        "id": "bMivsjKU0LGM"
      },
      "source": [
        "img_arr.shape"
      ],
      "execution_count": null,
      "outputs": []
    },
    {
      "cell_type": "code",
      "metadata": {
        "id": "w4iIDV6E-Lcc"
      },
      "source": [
        "DataDir= \"DAtaset/\"\n",
        "classes=[\"FAceMask\", \"NoMask\"]\n",
        "for cat in classes:\n",
        "  path= os.path.join(Datadir, cat)\n",
        "  for img in os.listdir(path):\n",
        "    img_arr= cv2.imread(os.path.join(path,img))\n",
        "    plt.imshow(cv2.cvtColor(img_arr, cv2.COLOR_BGR2RGB))\n",
        "    plt.show()\n",
        "    break\n",
        "  break"
      ],
      "execution_count": null,
      "outputs": []
    },
    {
      "cell_type": "code",
      "metadata": {
        "id": "j_mkUSVS0IyA"
      },
      "source": [
        "img_size=224\n",
        "new_arr= cv2.resize(img_arr, (img_size,img_size))\n",
        "plt.imshow(cv2.cvtColor(new-arr,  cv2.COLOR_BGR2RGB))"
      ],
      "execution_count": null,
      "outputs": []
    },
    {
      "cell_type": "code",
      "metadata": {
        "id": "PcH-Igm21FMg"
      },
      "source": [
        "train_data=[]\n",
        "def "
      ],
      "execution_count": null,
      "outputs": []
    },
    {
      "cell_type": "code",
      "metadata": {
        "id": "COGpelliuWLY"
      },
      "source": [
        "create_training_Data()"
      ],
      "execution_count": null,
      "outputs": []
    },
    {
      "cell_type": "code",
      "metadata": {
        "id": "dKzobvEBuZ2K"
      },
      "source": [
        "print(len(training_Data))"
      ],
      "execution_count": null,
      "outputs": []
    },
    {
      "cell_type": "code",
      "metadata": {
        "id": "I-NJDur3ueAG"
      },
      "source": [
        "import random\n",
        "\n",
        "random.shuffle(training_Data)"
      ],
      "execution_count": null,
      "outputs": []
    },
    {
      "cell_type": "code",
      "metadata": {
        "id": "58sWvVXturrX"
      },
      "source": [
        "X = []  ##data\n",
        "y = [] ##label\n",
        "\n",
        "for features, label un training_Data:\n",
        "  X.append(features)\n",
        "  y.append(label)\n",
        "\n",
        "\n",
        "X = np.array(X).reshape(-1, img_size, img_size, 3)"
      ],
      "execution_count": null,
      "outputs": []
    },
    {
      "cell_type": "code",
      "metadata": {
        "id": "YO0FOYatuskB"
      },
      "source": [
        "X.shape\n",
        "X = X/225.0;"
      ],
      "execution_count": null,
      "outputs": []
    },
    {
      "cell_type": "code",
      "metadata": {
        "id": "3BqwTIXzvrlI"
      },
      "source": [
        "y[1000]"
      ],
      "execution_count": null,
      "outputs": []
    },
    {
      "cell_type": "code",
      "metadata": {
        "id": "keCs2ZzSvuZm"
      },
      "source": [
        "Y = np.array(y)"
      ],
      "execution_count": null,
      "outputs": []
    },
    {
      "cell_type": "code",
      "metadata": {
        "id": "vc8QS_x3vzCv"
      },
      "source": [
        "import pickle\n",
        "\n",
        "pickle_out = open(\"X.pickle\",\"wb\")\n",
        "pickle.dump(X, pickle_out)\n",
        "pickle_out.close()\n",
        "\n",
        "\n",
        "pickle_out = open(\"y.pickle\", \"wb\")\n",
        "pickle.dump(y, pickle_out)\n",
        "pickle_out.close()"
      ],
      "execution_count": null,
      "outputs": []
    },
    {
      "cell_type": "code",
      "metadata": {
        "id": "vp4fmHBxv1iF"
      },
      "source": [
        "pickle_in = open(\"X.pickle\", \"rb\")\n",
        "X = pickle.load(pickle_in)\n",
        "\n",
        "pickle_in = open(\"y.pickle\",\"rb\")\n",
        "y = pickle.load(pickle_in)"
      ],
      "execution_count": null,
      "outputs": []
    },
    {
      "cell_type": "markdown",
      "metadata": {
        "id": "EOhuuE2y9Vzs"
      },
      "source": [
        "# New Section"
      ]
    }
  ]
}