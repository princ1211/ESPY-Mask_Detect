{
  "nbformat": 4,
  "nbformat_minor": 0,
  "metadata": {
    "colab": {
      "name": "Untitled1.ipynb",
      "provenance": [],
      "collapsed_sections": [],
      "authorship_tag": "ABX9TyNrt83iL5NSwwd6TphiL1i3",
      "include_colab_link": true
    },
    "kernelspec": {
      "name": "python3",
      "display_name": "Python 3"
    }
  },
  "cells": [
    {
      "cell_type": "markdown",
      "metadata": {
        "id": "view-in-github",
        "colab_type": "text"
      },
      "source": [
        "<a href=\"https://colab.research.google.com/github/princ1211/MaskDetect/blob/main/Untitled1.ipynb\" target=\"_parent\"><img src=\"https://colab.research.google.com/assets/colab-badge.svg\" alt=\"Open In Colab\"/></a>"
      ]
    },
    {
      "cell_type": "code",
      "metadata": {
        "id": "Sf41sMNP9RC_"
      },
      "source": [
        "import tensorflow as tf \n",
        "import cv2 \n",
        "import os\n",
        "import matplotlib.pyplot as plt\n",
        "import numpy as np"
      ],
      "execution_count": null,
      "outputs": []
    },
    {
      "cell_type": "code",
      "metadata": {
        "id": "bMivsjKU0LGM"
      },
      "source": [
        "img_arr.shape"
      ],
      "execution_count": null,
      "outputs": []
    },
    {
      "cell_type": "code",
      "metadata": {
        "id": "w4iIDV6E-Lcc"
      },
      "source": [
        "DataDir= \"DAtaset/\"\n",
        "classes=[\"FAceMask\", \"NoMask\"]\n",
        "for cat in classes:\n",
        "  path= os.path.join(Datadir, cat)\n",
        "  for img in os.listdir(path):\n",
        "    img_arr= cv2.imread(os.path.join(path,img))\n",
        "    plt.imshow(cv2.cvtColor(img_arr, cv2.COLOR_BGR2RGB))\n",
        "    plt.show()\n",
        "    break\n",
        "  break"
      ],
      "execution_count": null,
      "outputs": []
    },
    {
      "cell_type": "code",
      "metadata": {
        "id": "j_mkUSVS0IyA"
      },
      "source": [
        "img_size=224\n",
        "new_arr= cv2.resize(img_arr, (img_size,img_size))\n",
        "plt.imshow(cv2.cvtColor(new-arr,  cv2.COLOR_BGR2RGB))"
      ],
      "execution_count": null,
      "outputs": []
    },
    {
      "cell_type": "code",
      "metadata": {
        "id": "PcH-Igm21FMg"
      },
      "source": [
        "train_data=[]\n",
        "def "
      ],
      "execution_count": null,
      "outputs": []
    },
    {
      "cell_type": "markdown",
      "metadata": {
        "id": "EOhuuE2y9Vzs"
      },
      "source": [
        "# New Section"
      ]
    }
  ]
}